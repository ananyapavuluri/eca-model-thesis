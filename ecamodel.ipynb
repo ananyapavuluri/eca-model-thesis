{
 "cells": [
  {
   "cell_type": "code",
   "execution_count": 62,
   "metadata": {},
   "outputs": [],
   "source": [
    "# import libraries\n",
    "import numpy as np\n",
    "import matplotlib.pyplot as plt\n",
    "import matplotlib.animation as animation\n",
    "import math\n",
    "import random\n"
   ]
  },
  {
   "cell_type": "code",
   "execution_count": 101,
   "metadata": {},
   "outputs": [],
   "source": [
    "class elementary_ca:\n",
    "\n",
    "    def __init__(self, rule_num, num_cells):\n",
    "        assert(rule_num > 0 and rule_num < 256)\n",
    "        rule_string = np.binary_repr(rule_num, 8)\n",
    "        self.rule = np.array([int(bit) for bit in rule_string])\n",
    "        print(\"Rule number chosen: \" + str(rule_num) + \" \")\n",
    "        print(self.rule)\n",
    "        self.num_cells = num_cells\n",
    "\n",
    "    def make_initial_config(self, percent_ones, percent_zeros):\n",
    "        dec_ones = percent_ones / 100\n",
    "        num_ones = math.ceil(dec_ones * self.num_cells)\n",
    "        num_zeros = self.num_cells - num_ones\n",
    "        ones_left = num_ones\n",
    "        zeros_left = num_zeros\n",
    "        configuration = []\n",
    "        for i in range(self.num_cells):\n",
    "            if (ones_left > 0 and zeros_left > 0):\n",
    "                x = random.randint(0,1)\n",
    "                configuration.append(x)\n",
    "                if x == 1:\n",
    "                    ones_left -= 1\n",
    "                elif x == 0:\n",
    "                    zeros_left -= 1\n",
    "            elif (ones_left > 0):\n",
    "                configuration.append(1)\n",
    "                ones_left -= 1\n",
    "            elif (zeros_left > 0):\n",
    "                configuration.append(0)\n",
    "                zeros_left -= 1\n",
    "        \n",
    "        return configuration\n",
    "\n",
    "    def rule_index(self, triplet):\n",
    "        L, C, R = triplet\n",
    "        index = 7 - (4*L + 2*C + R)\n",
    "        return int(index)\n",
    "    \n",
    "    def get_rule(self):\n",
    "        return self.rule\n",
    "    \n",
    "    def update_rule(self, new_rule):\n",
    "        self.rule = new_rule\n",
    "    \n",
    "    def noise(self, probability):\n",
    "        x = random.randrange(0, (len(self.rule)), 1)\n",
    "        y = random.random()\n",
    "        if(y < probability):\n",
    "            if (self.rule[x] == 0):\n",
    "                self.rule[x] = 1\n",
    "            else:\n",
    "                self.rule[x] = 0\n",
    "        \n",
    "\n",
    "    def CA_run(self, initial_state, n_steps, noise):\n",
    "        m_cells = len(initial_state)\n",
    "        CA_run = np.zeros((n_steps, m_cells))\n",
    "        CA_run[0, :] = initial_state\n",
    "\n",
    "        for step in range(1, n_steps):\n",
    "            #if noise, mutate the rule else do all_triplets\n",
    "            if noise:\n",
    "                self.noise(0.5)\n",
    "                \n",
    "            all_triplets = np.stack(\n",
    "                [\n",
    "                    np.roll(CA_run[step - 1, :], 1),\n",
    "                    CA_run[step - 1, :],\n",
    "                    np.roll(CA_run[step - 1, :], -1),\n",
    "                ]\n",
    "            )\n",
    "            CA_run[step, :] = self.rule[np.apply_along_axis(self.rule_index, 0, all_triplets)]\n",
    "\n",
    "        return CA_run\n",
    "    \n",
    "\n",
    "\n"
   ]
  },
  {
   "cell_type": "code",
   "execution_count": 136,
   "metadata": {},
   "outputs": [
    {
     "name": "stdout",
     "output_type": "stream",
     "text": [
      "Rule number chosen: 184 \n",
      "[1 0 1 1 1 0 0 0]\n",
      "Initial configuration: \n"
     ]
    },
    {
     "data": {
      "text/plain": [
       "<matplotlib.image.AxesImage at 0x7fa761efb700>"
      ]
     },
     "execution_count": 136,
     "metadata": {},
     "output_type": "execute_result"
    },
    {
     "data": {
      "image/png": "[encoded data removed]",
      "text/plain": [
       "<Figure size 3600x720 with 2 Axes>"
      ]
     },
     "metadata": {
      "needs_background": "light"
     },
     "output_type": "display_data"
    }
   ],
   "source": [
    "ECA = elementary_ca(184, 10)\n",
    "init_config = ECA.make_initial_config(50, 50)\n",
    "print(\"Initial configuration: \")\n",
    "data = ECA.CA_run(init_config, 50, noise=False)\n",
    "noisydata = ECA.CA_run(init_config, 50, noise=True)\n",
    "fig = plt.figure(figsize=(50, 10)) # <- may need to change sizes to visualize large T (i.e., scaled version of numcell x time)\n",
    "ax = plt.axes()\n",
    "ax.set_axis_off()\n",
    "ax.imshow(data, interpolation='none',cmap='Wistia', aspect=1)\n",
    "ax2 = plt.axes()\n",
    "ax2.set_axis_off()\n",
    "ax2.imshow(noisydata, interpolation='none', cmap='Wistia', aspect=1)"
   ]
  }
 ],
 "metadata": {
  "interpreter": {
   "hash": "aee8b7b246df8f9039afb4144a1f6fd8d2ca17a180786b69acc140d282b71a49"
  },
  "kernelspec": {
   "display_name": "Python 3.8.5 64-bit",
   "name": "python3"
  },
  "language_info": {
   "codemirror_mode": {
    "name": "ipython",
    "version": 3
   },
   "file_extension": ".py",
   "mimetype": "text/x-python",
   "name": "python",
   "nbconvert_exporter": "python",
   "pygments_lexer": "ipython3",
   "version": "3.8.5"
  },
  "orig_nbformat": 4
 },
 "nbformat": 4,
 "nbformat_minor": 2
}
